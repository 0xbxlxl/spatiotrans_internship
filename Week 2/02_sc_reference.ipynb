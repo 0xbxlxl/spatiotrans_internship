{
 "cells": [
  {
   "cell_type": "code",
   "execution_count": 1,
   "metadata": {},
   "outputs": [],
   "source": [
    "import matplotlib.pyplot as plt\n",
    "from matplotlib.colors import CenteredNorm\n",
    "from scipy.stats import spearmanr\n",
    "import numpy as np\n",
    "import pandas as pd\n",
    "import deconomix\n",
    "import scanpy as sc\n",
    "from pathlib import Path"
   ]
  },
  {
   "cell_type": "code",
   "execution_count": 2,
   "metadata": {},
   "outputs": [
    {
     "name": "stdout",
     "output_type": "stream",
     "text": [
      "AnnData object with n_obs × n_vars = 39936 × 33538\n",
      "    obs: 'in_tissue', 'array_row', 'array_col', 'sample', 'section'\n",
      "    obsm: 'spatial'\n",
      "Index(['MIR1302-2HG', 'FAM138A', 'OR4F5', 'AL627309.1', 'AL627309.3'], dtype='object')\n"
     ]
    },
    {
     "name": "stderr",
     "output_type": "stream",
     "text": [
      "/Users/bilalkachir/Desktop/Internship/.venv/lib/python3.11/site-packages/anndata/_core/anndata.py:1756: UserWarning: Observation names are not unique. To make them unique, call `.obs_names_make_unique`.\n",
      "  utils.warn_names_duplicates(\"obs\")\n"
     ]
    }
   ],
   "source": [
    "X_ref = pd.read_csv(\"../Data/cell_type_reference_matrix.csv\", index_col=0)\n",
    "adata_st = sc.read_h5ad(\"../Data/STDS0000002/adata_processed.h5ad\")\n",
    "print(adata_st)\n",
    "print(adata_st.var_names[:5])"
   ]
  },
  {
   "cell_type": "code",
   "execution_count": 3,
   "metadata": {},
   "outputs": [],
   "source": [
    "# Clean up index: remove tab and whitespace\n",
    "X_ref.index = X_ref.index.str.split(\"\\t\").str[0].str.strip()"
   ]
  },
  {
   "cell_type": "code",
   "execution_count": 4,
   "metadata": {},
   "outputs": [
    {
     "name": "stderr",
     "output_type": "stream",
     "text": [
      "Input sequence provided is already in string format. No operation performed\n",
      "Input sequence provided is already in string format. No operation performed\n",
      "21 input query terms found dup hits:\t[('ENSG00000188660', 2), ('ENSG00000215156', 2), ('ENSG00000226519', 2), ('ENSG00000227110', 2), ('E\n",
      "521 input query terms found no hit:\t['ENSG00000112096', 'ENSG00000131484', 'ENSG00000132832', 'ENSG00000137808', 'ENSG00000139656', 'ENS\n"
     ]
    }
   ],
   "source": [
    "import mygene\n",
    "mg = mygene.MyGeneInfo()\n",
    "\n",
    "# Convert Ensembl IDs to gene symbols\n",
    "ensembl_ids = X_ref.index.tolist()\n",
    "query = mg.querymany(ensembl_ids, scopes='ensembl.gene', fields='symbol', species='human')\n",
    "mapping = {entry['query']: entry.get('symbol', None) for entry in query if 'symbol' in entry}\n",
    "\n",
    "# Drop any that failed to map\n",
    "X_ref = X_ref.rename(index=mapping).dropna()"
   ]
  },
  {
   "cell_type": "code",
   "execution_count": 5,
   "metadata": {},
   "outputs": [
    {
     "name": "stdout",
     "output_type": "stream",
     "text": [
      "First few genes in X_ref: ['TSPAN6', 'TNMD', 'DPM1', 'SCYL3', 'FIRRM']\n",
      "First few genes in adata_st: ['MIR1302-2HG', 'FAM138A', 'OR4F5', 'AL627309.1', 'AL627309.3']\n"
     ]
    }
   ],
   "source": [
    "print(\"First few genes in X_ref:\", X_ref.index[:5].tolist())\n",
    "print(\"First few genes in adata_st:\", adata_st.var_names[:5].tolist())"
   ]
  },
  {
   "cell_type": "code",
   "execution_count": 6,
   "metadata": {},
   "outputs": [],
   "source": [
    "# STEP 1: Compute variance across cell types\n",
    "gene_variance = X_ref.var(axis=1)\n",
    "\n",
    "# STEP 2: Sort and get top 2000 genes\n",
    "top_genes = gene_variance.sort_values(ascending=False).head(2000).index\n",
    "\n",
    "# STEP 3: Intersect with genes in ST dataset\n",
    "genes_st = set(adata_st.var_names)\n",
    "genes_final = top_genes.intersection(genes_st)\n",
    "\n",
    "# STEP 4: Reduce X_ref to selected genes\n",
    "X_ref_reduced = X_ref.loc[genes_final]\n",
    "\n",
    "# Save\n",
    "X_ref_reduced.to_csv(\"../Data/X_reference_top2000.csv\")"
   ]
  },
  {
   "cell_type": "code",
   "execution_count": 7,
   "metadata": {},
   "outputs": [
    {
     "name": "stderr",
     "output_type": "stream",
     "text": [
      "Input sequence provided is already in string format. No operation performed\n",
      "Input sequence provided is already in string format. No operation performed\n"
     ]
    },
    {
     "name": "stdout",
     "output_type": "stream",
     "text": [
      "Index(['ENSG00000000003', 'ENSG00000000005', 'ENSG00000000419',\n",
      "       'ENSG00000000457', 'ENSG00000000460', 'ENSG00000000938',\n",
      "       'ENSG00000000971', 'ENSG00000001036', 'ENSG00000001084',\n",
      "       'ENSG00000001167'],\n",
      "      dtype='object')\n"
     ]
    },
    {
     "name": "stderr",
     "output_type": "stream",
     "text": [
      "21 input query terms found dup hits:\t[('ENSG00000188660', 2), ('ENSG00000215156', 2), ('ENSG00000226519', 2), ('ENSG00000227110', 2), ('E\n",
      "521 input query terms found no hit:\t['ENSG00000112096', 'ENSG00000131484', 'ENSG00000132832', 'ENSG00000137808', 'ENSG00000139656', 'ENS\n"
     ]
    }
   ],
   "source": [
    "adata = sc.read_h5ad(\"../Data/scatlas/E-MTAB-9543_reference_data.h5ad\")\n",
    "# Remove duplicated Ensembl ID after tab and strip whitespace\n",
    "adata.var_names = adata.var_names.str.split(\"\\t\").str[0].str.strip()\n",
    "print(adata.var_names[:10])\n",
    "adata.write(\"../Data/scatlas/E-MTAB-9543_reference_data.h5ad\")\n",
    "\n",
    "mg = mygene.MyGeneInfo()\n",
    "\n",
    "# Query mygene service\n",
    "query = mg.querymany(\n",
    "    adata.var_names.tolist(),\n",
    "    scopes=\"ensembl.gene\",\n",
    "    fields=\"symbol\",\n",
    "    species=\"human\"\n",
    ")\n",
    "\n",
    "# Build a mapping: Ensembl ID → Gene Symbol\n",
    "ensembl_to_symbol = {\n",
    "    item[\"query\"]: item[\"symbol\"]\n",
    "    for item in query if \"symbol\" in item\n",
    "}\n",
    "\n",
    "# Filter only valid symbols\n",
    "valid_genes = [g for g in adata.var_names if g in ensembl_to_symbol]\n",
    "\n",
    "# Subset and rename\n",
    "adata = adata[:, valid_genes].copy()\n",
    "adata.var_names = [ensembl_to_symbol[g] for g in valid_genes]\n"
   ]
  },
  {
   "cell_type": "code",
   "execution_count": 8,
   "metadata": {},
   "outputs": [
    {
     "name": "stdout",
     "output_type": "stream",
     "text": [
      "Final reference shape: (1549, 7)\n",
      "sc_references shape: (1548, 12315)\n"
     ]
    }
   ],
   "source": [
    "# Ensure adata.var_names are unique (needed for column indexing)\n",
    "adata.var_names_make_unique()\n",
    "\n",
    "# Filter genes_final to only those present in adata\n",
    "genes_final_valid = [g for g in genes_final if g in adata.var_names]\n",
    "\n",
    "n_max = 10000\n",
    "sc_ref_frames = []\n",
    "\n",
    "for cell_type in adata.obs[\"cell_type\"].unique():\n",
    "    subset = adata[adata.obs[\"cell_type\"] == cell_type]\n",
    "\n",
    "    # Subset to top genes\n",
    "    subset = subset[:, genes_final]\n",
    "\n",
    "    # Sample cells\n",
    "    if subset.n_obs > n_max:\n",
    "        subset = subset[np.random.choice(subset.obs_names, n_max, replace=False)]\n",
    "\n",
    "    # Get matrix and convert to dense if needed\n",
    "    X = subset.X\n",
    "    if hasattr(X, \"toarray\"):\n",
    "        X = X.toarray()\n",
    "    \n",
    "    # Create DataFrame\n",
    "    df = pd.DataFrame(X.T, index=genes_final)\n",
    "    df.columns = [cell_type] * subset.n_obs  # Label columns by cell type\n",
    "\n",
    "    sc_ref_frames.append(df)\n",
    "\n",
    "# STEP 6: Combine all samples into one big DataFrame\n",
    "sc_references = pd.concat(sc_ref_frames, axis=1)\n",
    "\n",
    "# Save the DataFrame\n",
    "sc_references.to_csv(\"../Data/sc_references_top2000.csv\")\n",
    "\n",
    "# Summary\n",
    "print(f\"Final reference shape: {X_ref_reduced.shape}\")\n",
    "print(f\"sc_references shape: {sc_references.shape}\")"
   ]
  }
 ],
 "metadata": {
  "kernelspec": {
   "display_name": "Python (Internship)",
   "language": "python",
   "name": "internship"
  },
  "language_info": {
   "codemirror_mode": {
    "name": "ipython",
    "version": 3
   },
   "file_extension": ".py",
   "mimetype": "text/x-python",
   "name": "python",
   "nbconvert_exporter": "python",
   "pygments_lexer": "ipython3",
   "version": "3.11.5"
  },
  "orig_nbformat": 4
 },
 "nbformat": 4,
 "nbformat_minor": 2
}
