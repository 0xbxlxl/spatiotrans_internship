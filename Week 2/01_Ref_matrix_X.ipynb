{
  "cells": [
    {
      "cell_type": "code",
      "execution_count": 1,
      "metadata": {
        "colab": {
          "base_uri": "https://localhost:8080/"
        },
        "id": "-3s82j5tTn58",
        "outputId": "db7f9119-98cf-413f-f5b4-4c8c8ed4012f"
      },
      "outputs": [
        {
          "name": "stdout",
          "output_type": "stream",
          "text": [
            "Requirement already satisfied: scanpy in /Users/bilalkachir/Desktop/Internship/.venv/lib/python3.11/site-packages (1.11.2)\n",
            "Requirement already satisfied: anndata>=0.8 in /Users/bilalkachir/Desktop/Internship/.venv/lib/python3.11/site-packages (from scanpy) (0.11.4)\n",
            "Requirement already satisfied: h5py>=3.7.0 in /Users/bilalkachir/Desktop/Internship/.venv/lib/python3.11/site-packages (from scanpy) (3.14.0)\n",
            "Requirement already satisfied: joblib in /Users/bilalkachir/Desktop/Internship/.venv/lib/python3.11/site-packages (from scanpy) (1.5.1)\n",
            "Requirement already satisfied: legacy-api-wrap>=1.4.1 in /Users/bilalkachir/Desktop/Internship/.venv/lib/python3.11/site-packages (from scanpy) (1.4.1)\n",
            "Requirement already satisfied: matplotlib>=3.7.5 in /Users/bilalkachir/Desktop/Internship/.venv/lib/python3.11/site-packages (from scanpy) (3.10.3)\n",
            "Requirement already satisfied: natsort in /Users/bilalkachir/Desktop/Internship/.venv/lib/python3.11/site-packages (from scanpy) (8.4.0)\n",
            "Requirement already satisfied: networkx>=2.7.1 in /Users/bilalkachir/Desktop/Internship/.venv/lib/python3.11/site-packages (from scanpy) (3.5)\n",
            "Requirement already satisfied: numba>=0.57.1 in /Users/bilalkachir/Desktop/Internship/.venv/lib/python3.11/site-packages (from scanpy) (0.61.2)\n",
            "Requirement already satisfied: numpy>=1.24.1 in /Users/bilalkachir/Desktop/Internship/.venv/lib/python3.11/site-packages (from scanpy) (2.2.6)\n",
            "Requirement already satisfied: packaging>=21.3 in /Users/bilalkachir/Desktop/Internship/.venv/lib/python3.11/site-packages (from scanpy) (25.0)\n",
            "Requirement already satisfied: pandas>=1.5.3 in /Users/bilalkachir/Desktop/Internship/.venv/lib/python3.11/site-packages (from scanpy) (2.3.0)\n",
            "Requirement already satisfied: patsy!=1.0.0 in /Users/bilalkachir/Desktop/Internship/.venv/lib/python3.11/site-packages (from scanpy) (1.0.1)\n",
            "Requirement already satisfied: pynndescent>=0.5.13 in /Users/bilalkachir/Desktop/Internship/.venv/lib/python3.11/site-packages (from scanpy) (0.5.13)\n",
            "Requirement already satisfied: scikit-learn>=1.1.3 in /Users/bilalkachir/Desktop/Internship/.venv/lib/python3.11/site-packages (from scanpy) (1.7.0)\n",
            "Requirement already satisfied: scipy>=1.8.1 in /Users/bilalkachir/Desktop/Internship/.venv/lib/python3.11/site-packages (from scanpy) (1.16.0)\n",
            "Requirement already satisfied: seaborn>=0.13.2 in /Users/bilalkachir/Desktop/Internship/.venv/lib/python3.11/site-packages (from scanpy) (0.13.2)\n",
            "Requirement already satisfied: session-info2 in /Users/bilalkachir/Desktop/Internship/.venv/lib/python3.11/site-packages (from scanpy) (0.1.2)\n",
            "Requirement already satisfied: statsmodels>=0.14.4 in /Users/bilalkachir/Desktop/Internship/.venv/lib/python3.11/site-packages (from scanpy) (0.14.4)\n",
            "Requirement already satisfied: tqdm in /Users/bilalkachir/Desktop/Internship/.venv/lib/python3.11/site-packages (from scanpy) (4.67.1)\n",
            "Requirement already satisfied: typing-extensions in /Users/bilalkachir/Desktop/Internship/.venv/lib/python3.11/site-packages (from scanpy) (4.14.0)\n",
            "Requirement already satisfied: umap-learn>=0.5.6 in /Users/bilalkachir/Desktop/Internship/.venv/lib/python3.11/site-packages (from scanpy) (0.5.7)\n",
            "Requirement already satisfied: array-api-compat!=1.5,>1.4 in /Users/bilalkachir/Desktop/Internship/.venv/lib/python3.11/site-packages (from anndata>=0.8->scanpy) (1.12.0)\n",
            "Requirement already satisfied: contourpy>=1.0.1 in /Users/bilalkachir/Desktop/Internship/.venv/lib/python3.11/site-packages (from matplotlib>=3.7.5->scanpy) (1.3.2)\n",
            "Requirement already satisfied: cycler>=0.10 in /Users/bilalkachir/Desktop/Internship/.venv/lib/python3.11/site-packages (from matplotlib>=3.7.5->scanpy) (0.12.1)\n",
            "Requirement already satisfied: fonttools>=4.22.0 in /Users/bilalkachir/Desktop/Internship/.venv/lib/python3.11/site-packages (from matplotlib>=3.7.5->scanpy) (4.58.4)\n",
            "Requirement already satisfied: kiwisolver>=1.3.1 in /Users/bilalkachir/Desktop/Internship/.venv/lib/python3.11/site-packages (from matplotlib>=3.7.5->scanpy) (1.4.8)\n",
            "Requirement already satisfied: pillow>=8 in /Users/bilalkachir/Desktop/Internship/.venv/lib/python3.11/site-packages (from matplotlib>=3.7.5->scanpy) (11.2.1)\n",
            "Requirement already satisfied: pyparsing>=2.3.1 in /Users/bilalkachir/Desktop/Internship/.venv/lib/python3.11/site-packages (from matplotlib>=3.7.5->scanpy) (3.2.3)\n",
            "Requirement already satisfied: python-dateutil>=2.7 in /Users/bilalkachir/Desktop/Internship/.venv/lib/python3.11/site-packages (from matplotlib>=3.7.5->scanpy) (2.9.0.post0)\n",
            "Requirement already satisfied: llvmlite<0.45,>=0.44.0dev0 in /Users/bilalkachir/Desktop/Internship/.venv/lib/python3.11/site-packages (from numba>=0.57.1->scanpy) (0.44.0)\n",
            "Requirement already satisfied: pytz>=2020.1 in /Users/bilalkachir/Desktop/Internship/.venv/lib/python3.11/site-packages (from pandas>=1.5.3->scanpy) (2025.2)\n",
            "Requirement already satisfied: tzdata>=2022.7 in /Users/bilalkachir/Desktop/Internship/.venv/lib/python3.11/site-packages (from pandas>=1.5.3->scanpy) (2025.2)\n",
            "Requirement already satisfied: six>=1.5 in /Users/bilalkachir/Desktop/Internship/.venv/lib/python3.11/site-packages (from python-dateutil>=2.7->matplotlib>=3.7.5->scanpy) (1.17.0)\n",
            "Requirement already satisfied: threadpoolctl>=3.1.0 in /Users/bilalkachir/Desktop/Internship/.venv/lib/python3.11/site-packages (from scikit-learn>=1.1.3->scanpy) (3.6.0)\n",
            "Note: you may need to restart the kernel to use updated packages.\n"
          ]
        }
      ],
      "source": [
        "pip install scanpy"
      ]
    },
    {
      "cell_type": "code",
      "execution_count": 22,
      "metadata": {
        "id": "mOfCGLHfNVsm"
      },
      "outputs": [],
      "source": [
        "import matplotlib.pyplot as plt\n",
        "from matplotlib.colors import CenteredNorm\n",
        "from scipy.stats import spearmanr\n",
        "import numpy as np\n",
        "import pandas as pd\n",
        "import deconomix\n",
        "import scanpy as sc\n",
        "from pathlib import Path"
      ]
    },
    {
      "cell_type": "code",
      "execution_count": 23,
      "metadata": {
        "id": "oHcJb77ON4tJ"
      },
      "outputs": [],
      "source": [
        "data_path = Path('../Data/scatlas')"
      ]
    },
    {
      "cell_type": "code",
      "execution_count": 24,
      "metadata": {
        "id": "a3EhKXQNULfW"
      },
      "outputs": [],
      "source": [
        "adata = sc.read_mtx(data_path / \"E-MTAB-9543.aggregated_filtered_counts.mtx\")\n",
        "adata = adata.T"
      ]
    },
    {
      "cell_type": "code",
      "execution_count": 25,
      "metadata": {
        "colab": {
          "base_uri": "https://localhost:8080/"
        },
        "id": "ugt5rubRUhJG",
        "outputId": "60ecc701-d9ed-40cd-a57d-df9728c8f729"
      },
      "outputs": [
        {
          "name": "stdout",
          "output_type": "stream",
          "text": [
            "(20484, 34369)\n"
          ]
        }
      ],
      "source": [
        "print(adata.shape)"
      ]
    },
    {
      "cell_type": "code",
      "execution_count": 26,
      "metadata": {
        "id": "xZK33ZfjVc5K"
      },
      "outputs": [],
      "source": [
        "# Set cell and gene names\n",
        "barcodes = pd.read_csv(data_path / \"E-MTAB-9543.aggregated_filtered_counts.mtx_cols\", header=None)[0].values\n",
        "genes = pd.read_csv(data_path / \"E-MTAB-9543.aggregated_filtered_counts.mtx_rows\", header=None)[0].values"
      ]
    },
    {
      "cell_type": "code",
      "execution_count": 27,
      "metadata": {
        "colab": {
          "base_uri": "https://localhost:8080/"
        },
        "id": "Iwq62z5WVurO",
        "outputId": "34f1544b-24ac-486e-f6c0-72b32a31bccf"
      },
      "outputs": [
        {
          "name": "stdout",
          "output_type": "stream",
          "text": [
            "['ERR9924225-AACACGTCAGCCAGAA' 'ERR9924225-AACGTTGAGGACATTA'\n",
            " 'ERR9924225-AAGGAGCTCGGCGCTA' 'ERR9924225-ACCGTAAGTCTCTCTG'\n",
            " 'ERR9924225-ACGGAGATCAGCGACC']\n",
            "['ENSG00000000003\\tENSG00000000003' 'ENSG00000000005\\tENSG00000000005'\n",
            " 'ENSG00000000419\\tENSG00000000419' 'ENSG00000000457\\tENSG00000000457'\n",
            " 'ENSG00000000460\\tENSG00000000460']\n"
          ]
        }
      ],
      "source": [
        "print(barcodes[:5])\n",
        "print(genes[:5])"
      ]
    },
    {
      "cell_type": "code",
      "execution_count": 28,
      "metadata": {
        "id": "StubEs5GV5ND"
      },
      "outputs": [],
      "source": [
        "adata.obs_names = barcodes\n",
        "adata.var_names = genes"
      ]
    },
    {
      "cell_type": "code",
      "execution_count": 29,
      "metadata": {
        "colab": {
          "base_uri": "https://localhost:8080/"
        },
        "id": "EhaIgYt-WEgX",
        "outputId": "ab1b1f71-5175-45dc-bd9a-a12cbc237e48"
      },
      "outputs": [
        {
          "name": "stdout",
          "output_type": "stream",
          "text": [
            "(20486, 10)\n",
            "RangeIndex(start=0, stop=10, step=1)\n",
            "Available clustering levels: [0, 1, 2, 3, 4, 5, 6, 7, 8, 9]\n"
          ]
        }
      ],
      "source": [
        "# Load clustering (cell type) labels\n",
        "clusters = pd.read_csv(data_path / \"E-MTAB-9543.clusters.tsv\", sep=\"\\t\", header=None)\n",
        "clusters = clusters.T # now rows = cells\n",
        "print(clusters.shape)\n",
        "print(clusters.columns)\n",
        "\n",
        "print(\"Available clustering levels:\", clusters.columns.tolist())"
      ]
    },
    {
      "cell_type": "code",
      "execution_count": 30,
      "metadata": {
        "colab": {
          "base_uri": "https://localhost:8080/",
          "height": 424
        },
        "id": "oEjiBAo9Z5m7",
        "outputId": "f86829c5-3973-4669-8cfe-dcaddc269839"
      },
      "outputs": [
        {
          "data": {
            "text/html": [
              "<div>\n",
              "<style scoped>\n",
              "    .dataframe tbody tr th:only-of-type {\n",
              "        vertical-align: middle;\n",
              "    }\n",
              "\n",
              "    .dataframe tbody tr th {\n",
              "        vertical-align: top;\n",
              "    }\n",
              "\n",
              "    .dataframe thead th {\n",
              "        text-align: right;\n",
              "    }\n",
              "</style>\n",
              "<table border=\"1\" class=\"dataframe\">\n",
              "  <thead>\n",
              "    <tr style=\"text-align: right;\">\n",
              "      <th></th>\n",
              "      <th>0</th>\n",
              "      <th>1</th>\n",
              "      <th>2</th>\n",
              "      <th>3</th>\n",
              "      <th>4</th>\n",
              "      <th>5</th>\n",
              "      <th>6</th>\n",
              "      <th>7</th>\n",
              "      <th>8</th>\n",
              "      <th>9</th>\n",
              "    </tr>\n",
              "  </thead>\n",
              "  <tbody>\n",
              "    <tr>\n",
              "      <th>0</th>\n",
              "      <td>sel.K</td>\n",
              "      <td>FALSE</td>\n",
              "      <td>FALSE</td>\n",
              "      <td>FALSE</td>\n",
              "      <td>FALSE</td>\n",
              "      <td>TRUE</td>\n",
              "      <td>FALSE</td>\n",
              "      <td>FALSE</td>\n",
              "      <td>FALSE</td>\n",
              "      <td>FALSE</td>\n",
              "    </tr>\n",
              "    <tr>\n",
              "      <th>1</th>\n",
              "      <td>K</td>\n",
              "      <td>7</td>\n",
              "      <td>12</td>\n",
              "      <td>17</td>\n",
              "      <td>24</td>\n",
              "      <td>32</td>\n",
              "      <td>45</td>\n",
              "      <td>58</td>\n",
              "      <td>67</td>\n",
              "      <td>76</td>\n",
              "    </tr>\n",
              "    <tr>\n",
              "      <th>2</th>\n",
              "      <td>ERR9924225-AACACGTCAGCCAGAA</td>\n",
              "      <td>1</td>\n",
              "      <td>1</td>\n",
              "      <td>1</td>\n",
              "      <td>1</td>\n",
              "      <td>1</td>\n",
              "      <td>1</td>\n",
              "      <td>1</td>\n",
              "      <td>15</td>\n",
              "      <td>11</td>\n",
              "    </tr>\n",
              "    <tr>\n",
              "      <th>3</th>\n",
              "      <td>ERR9924225-AACGTTGAGGACATTA</td>\n",
              "      <td>1</td>\n",
              "      <td>1</td>\n",
              "      <td>1</td>\n",
              "      <td>1</td>\n",
              "      <td>1</td>\n",
              "      <td>1</td>\n",
              "      <td>3</td>\n",
              "      <td>12</td>\n",
              "      <td>12</td>\n",
              "    </tr>\n",
              "    <tr>\n",
              "      <th>4</th>\n",
              "      <td>ERR9924225-AAGGAGCTCGGCGCTA</td>\n",
              "      <td>1</td>\n",
              "      <td>1</td>\n",
              "      <td>1</td>\n",
              "      <td>1</td>\n",
              "      <td>1</td>\n",
              "      <td>6</td>\n",
              "      <td>14</td>\n",
              "      <td>33</td>\n",
              "      <td>30</td>\n",
              "    </tr>\n",
              "    <tr>\n",
              "      <th>...</th>\n",
              "      <td>...</td>\n",
              "      <td>...</td>\n",
              "      <td>...</td>\n",
              "      <td>...</td>\n",
              "      <td>...</td>\n",
              "      <td>...</td>\n",
              "      <td>...</td>\n",
              "      <td>...</td>\n",
              "      <td>...</td>\n",
              "      <td>...</td>\n",
              "    </tr>\n",
              "    <tr>\n",
              "      <th>20481</th>\n",
              "      <td>ERR9924288-TTCTCAAGTAGTAGTA</td>\n",
              "      <td>3</td>\n",
              "      <td>2</td>\n",
              "      <td>3</td>\n",
              "      <td>2</td>\n",
              "      <td>2</td>\n",
              "      <td>5</td>\n",
              "      <td>8</td>\n",
              "      <td>1</td>\n",
              "      <td>1</td>\n",
              "    </tr>\n",
              "    <tr>\n",
              "      <th>20482</th>\n",
              "      <td>ERR9924288-TTCTCAATCTTCATGT</td>\n",
              "      <td>3</td>\n",
              "      <td>2</td>\n",
              "      <td>3</td>\n",
              "      <td>2</td>\n",
              "      <td>2</td>\n",
              "      <td>5</td>\n",
              "      <td>23</td>\n",
              "      <td>24</td>\n",
              "      <td>19</td>\n",
              "    </tr>\n",
              "    <tr>\n",
              "      <th>20483</th>\n",
              "      <td>ERR9924288-TTGACTTTCCCAAGTA</td>\n",
              "      <td>3</td>\n",
              "      <td>2</td>\n",
              "      <td>3</td>\n",
              "      <td>2</td>\n",
              "      <td>2</td>\n",
              "      <td>5</td>\n",
              "      <td>8</td>\n",
              "      <td>1</td>\n",
              "      <td>1</td>\n",
              "    </tr>\n",
              "    <tr>\n",
              "      <th>20484</th>\n",
              "      <td>ERR9924288-TTTGGTTAGGGAGTAA</td>\n",
              "      <td>3</td>\n",
              "      <td>2</td>\n",
              "      <td>3</td>\n",
              "      <td>2</td>\n",
              "      <td>2</td>\n",
              "      <td>5</td>\n",
              "      <td>8</td>\n",
              "      <td>1</td>\n",
              "      <td>1</td>\n",
              "    </tr>\n",
              "    <tr>\n",
              "      <th>20485</th>\n",
              "      <td>ERR9924288-TTTGGTTCACACATGT</td>\n",
              "      <td>3</td>\n",
              "      <td>2</td>\n",
              "      <td>3</td>\n",
              "      <td>2</td>\n",
              "      <td>2</td>\n",
              "      <td>5</td>\n",
              "      <td>23</td>\n",
              "      <td>24</td>\n",
              "      <td>19</td>\n",
              "    </tr>\n",
              "  </tbody>\n",
              "</table>\n",
              "<p>20486 rows × 10 columns</p>\n",
              "</div>"
            ],
            "text/plain": [
              "                                 0      1      2      3      4     5      6  \\\n",
              "0                            sel.K  FALSE  FALSE  FALSE  FALSE  TRUE  FALSE   \n",
              "1                                K      7     12     17     24    32     45   \n",
              "2      ERR9924225-AACACGTCAGCCAGAA      1      1      1      1     1      1   \n",
              "3      ERR9924225-AACGTTGAGGACATTA      1      1      1      1     1      1   \n",
              "4      ERR9924225-AAGGAGCTCGGCGCTA      1      1      1      1     1      6   \n",
              "...                            ...    ...    ...    ...    ...   ...    ...   \n",
              "20481  ERR9924288-TTCTCAAGTAGTAGTA      3      2      3      2     2      5   \n",
              "20482  ERR9924288-TTCTCAATCTTCATGT      3      2      3      2     2      5   \n",
              "20483  ERR9924288-TTGACTTTCCCAAGTA      3      2      3      2     2      5   \n",
              "20484  ERR9924288-TTTGGTTAGGGAGTAA      3      2      3      2     2      5   \n",
              "20485  ERR9924288-TTTGGTTCACACATGT      3      2      3      2     2      5   \n",
              "\n",
              "           7      8      9  \n",
              "0      FALSE  FALSE  FALSE  \n",
              "1         58     67     76  \n",
              "2          1     15     11  \n",
              "3          3     12     12  \n",
              "4         14     33     30  \n",
              "...      ...    ...    ...  \n",
              "20481      8      1      1  \n",
              "20482     23     24     19  \n",
              "20483      8      1      1  \n",
              "20484      8      1      1  \n",
              "20485     23     24     19  \n",
              "\n",
              "[20486 rows x 10 columns]"
            ]
          },
          "execution_count": 30,
          "metadata": {},
          "output_type": "execute_result"
        }
      ],
      "source": [
        "clusters"
      ]
    },
    {
      "cell_type": "code",
      "execution_count": 31,
      "metadata": {
        "colab": {
          "base_uri": "https://localhost:8080/"
        },
        "id": "Pzd52ljOezcG",
        "outputId": "36024746-668e-46dd-8e37-424c0a745462"
      },
      "outputs": [
        {
          "name": "stdout",
          "output_type": "stream",
          "text": [
            "         cluster   ref  rank            genes     scores  logfoldchanges  \\\n",
            "0         B cell  rest     0  ENSG00000019582  39.896060        9.195016   \n",
            "1         B cell  rest     1  ENSG00000245904  38.009483        6.031949   \n",
            "2         B cell  rest     2  ENSG00000245970  35.502335        4.700161   \n",
            "3         B cell  rest     3  ENSG00000152348  35.147835        4.410508   \n",
            "4         B cell  rest     4  ENSG00000225339  33.374424        4.262527   \n",
            "..           ...   ...   ...              ...        ...             ...   \n",
            "794  plasma cell  rest    95  ENSG00000143384  10.775816        2.040168   \n",
            "795  plasma cell  rest    96  ENSG00000270550  10.746228        3.853781   \n",
            "796  plasma cell  rest    97  ENSG00000163902  10.731209        2.565032   \n",
            "797  plasma cell  rest    98  ENSG00000211651  10.711214        3.221825   \n",
            "798  plasma cell  rest    99  ENSG00000224373  10.613530        3.717747   \n",
            "\n",
            "             pvals      pvals_adj  \n",
            "0     0.000000e+00   0.000000e+00  \n",
            "1     0.000000e+00   0.000000e+00  \n",
            "2    4.523957e-276  5.182796e-272  \n",
            "3    1.254449e-270  1.077854e-266  \n",
            "4    3.222583e-244  2.215139e-240  \n",
            "..             ...            ...  \n",
            "794   4.477932e-27   9.053061e-25  \n",
            "795   6.173443e-27   1.240790e-24  \n",
            "796   7.263967e-27   1.451484e-24  \n",
            "797   9.017100e-27   1.791380e-24  \n",
            "798   2.578202e-26   5.092541e-24  \n",
            "\n",
            "[799 rows x 8 columns]\n"
          ]
        }
      ],
      "source": [
        "marker_dir = Path(\"../Data/scatlas/marker_gene_files/\")\n",
        "df = pd.read_csv(marker_dir / \"E-MTAB-9543.marker_genes_inferred_cell_type_-_ontology_labels.tsv\", sep=\"\\t\")\n",
        "print(df)"
      ]
    },
    {
      "cell_type": "code",
      "execution_count": 32,
      "metadata": {
        "colab": {
          "base_uri": "https://localhost:8080/"
        },
        "id": "8jAz5x44geMD",
        "outputId": "6766a825-38c9-49a0-bd4b-cf59d8fbe03b"
      },
      "outputs": [
        {
          "name": "stdout",
          "output_type": "stream",
          "text": [
            "['B cell', 'T cell', 'endothelial cell', 'mesenchymal cell', 'myeloid cell', 'neuron', 'plasma cell', 'epithelial cell']\n"
          ]
        }
      ],
      "source": [
        "# Step 1: Get most common cell type names\n",
        "cell_types = df[\"cluster\"].value_counts().index.tolist()\n",
        "print(cell_types)"
      ]
    },
    {
      "cell_type": "code",
      "execution_count": 33,
      "metadata": {
        "colab": {
          "base_uri": "https://localhost:8080/"
        },
        "id": "F_0KZs2_gjX-",
        "outputId": "fe2b3c4f-6d4d-4bae-a3d8-8f037e0238b4"
      },
      "outputs": [
        {
          "name": "stdout",
          "output_type": "stream",
          "text": [
            "Index(['Cell ID', 'Original barcode', 'Cell type_orig',\n",
            "       'inferred cell type - authors labels',\n",
            "       'inferred cell type - ontology labels'],\n",
            "      dtype='object')\n"
          ]
        }
      ],
      "source": [
        "cells = pd.read_csv(data_path / \"E-MTAB-9543.cells.txt\", sep=\"\\t\")\n",
        "print(cells.columns)\n"
      ]
    },
    {
      "cell_type": "code",
      "execution_count": 34,
      "metadata": {
        "id": "9y9bFb5rkzLO"
      },
      "outputs": [],
      "source": [
        "barcode_to_celltype = dict(zip(\n",
        "    cells[\"Cell ID\"],\n",
        "    cells[\"inferred cell type - ontology labels\"]\n",
        "))"
      ]
    },
    {
      "cell_type": "code",
      "execution_count": 35,
      "metadata": {
        "id": "UktIJVUgk5Dm"
      },
      "outputs": [],
      "source": [
        "adata.obs[\"cell_type\"] = adata.obs_names.map(barcode_to_celltype)"
      ]
    },
    {
      "cell_type": "code",
      "execution_count": 36,
      "metadata": {
        "colab": {
          "base_uri": "https://localhost:8080/"
        },
        "id": "g2vaaz8jk8Xu",
        "outputId": "4af4bd81-cee2-4249-c782-bc53994b16c4"
      },
      "outputs": [
        {
          "name": "stdout",
          "output_type": "stream",
          "text": [
            "cell_type\n",
            "epithelial cell     7224\n",
            "T cell              1771\n",
            "plasma cell         1382\n",
            "B cell               769\n",
            "mesenchymal cell     599\n",
            "endothelial cell     372\n",
            "myeloid cell         198\n",
            "neuron                 2\n",
            "Name: count, dtype: int64\n"
          ]
        }
      ],
      "source": [
        "print(adata.obs[\"cell_type\"].value_counts())"
      ]
    },
    {
      "cell_type": "code",
      "execution_count": 37,
      "metadata": {
        "colab": {
          "base_uri": "https://localhost:8080/"
        },
        "id": "qv4GpMZHlj43",
        "outputId": "35f50b21-07fb-47ce-8bc9-04acc5a8151d"
      },
      "outputs": [
        {
          "name": "stdout",
          "output_type": "stream",
          "text": [
            "cell_type\n",
            "epithelial cell     7224\n",
            "T cell              1771\n",
            "plasma cell         1382\n",
            "B cell               769\n",
            "mesenchymal cell     599\n",
            "endothelial cell     372\n",
            "myeloid cell         198\n",
            "Name: count, dtype: int64\n"
          ]
        }
      ],
      "source": [
        "# make a Boolean mask … True for all rows except the ones equal to \"neuron\"\n",
        "mask = adata.obs[\"cell_type\"] != \"neuron\"\n",
        "\n",
        "# subset AnnData in-place (rows = spots)\n",
        "adata = adata[mask].copy()\n",
        "\n",
        "# check\n",
        "print(adata.obs[\"cell_type\"].value_counts())"
      ]
    },
    {
      "cell_type": "code",
      "execution_count": 38,
      "metadata": {},
      "outputs": [
        {
          "name": "stdout",
          "output_type": "stream",
          "text": [
            "X_ref shape: (34369, 7)\n"
          ]
        },
        {
          "data": {
            "text/html": [
              "<div>\n",
              "<style scoped>\n",
              "    .dataframe tbody tr th:only-of-type {\n",
              "        vertical-align: middle;\n",
              "    }\n",
              "\n",
              "    .dataframe tbody tr th {\n",
              "        vertical-align: top;\n",
              "    }\n",
              "\n",
              "    .dataframe thead th {\n",
              "        text-align: right;\n",
              "    }\n",
              "</style>\n",
              "<table border=\"1\" class=\"dataframe\">\n",
              "  <thead>\n",
              "    <tr style=\"text-align: right;\">\n",
              "      <th></th>\n",
              "      <th>epithelial cell</th>\n",
              "      <th>T cell</th>\n",
              "      <th>plasma cell</th>\n",
              "      <th>B cell</th>\n",
              "      <th>mesenchymal cell</th>\n",
              "      <th>endothelial cell</th>\n",
              "      <th>myeloid cell</th>\n",
              "    </tr>\n",
              "  </thead>\n",
              "  <tbody>\n",
              "    <tr>\n",
              "      <th>ENSG00000000003\\tENSG00000000003</th>\n",
              "      <td>0.025612</td>\n",
              "      <td>0.001129</td>\n",
              "      <td>0.007241</td>\n",
              "      <td>0.001300</td>\n",
              "      <td>0.015025</td>\n",
              "      <td>0.029570</td>\n",
              "      <td>0.000000</td>\n",
              "    </tr>\n",
              "    <tr>\n",
              "      <th>ENSG00000000005\\tENSG00000000005</th>\n",
              "      <td>0.000138</td>\n",
              "      <td>0.000000</td>\n",
              "      <td>0.000000</td>\n",
              "      <td>0.000000</td>\n",
              "      <td>0.005008</td>\n",
              "      <td>0.000000</td>\n",
              "      <td>0.000000</td>\n",
              "    </tr>\n",
              "    <tr>\n",
              "      <th>ENSG00000000419\\tENSG00000000419</th>\n",
              "      <td>0.039756</td>\n",
              "      <td>0.043196</td>\n",
              "      <td>0.026673</td>\n",
              "      <td>0.039034</td>\n",
              "      <td>0.045075</td>\n",
              "      <td>0.053763</td>\n",
              "      <td>0.035354</td>\n",
              "    </tr>\n",
              "    <tr>\n",
              "      <th>ENSG00000000457\\tENSG00000000457</th>\n",
              "      <td>0.028085</td>\n",
              "      <td>0.028976</td>\n",
              "      <td>0.022048</td>\n",
              "      <td>0.020806</td>\n",
              "      <td>0.023342</td>\n",
              "      <td>0.013441</td>\n",
              "      <td>0.005257</td>\n",
              "    </tr>\n",
              "    <tr>\n",
              "      <th>ENSG00000000460\\tENSG00000000460</th>\n",
              "      <td>0.048601</td>\n",
              "      <td>0.012987</td>\n",
              "      <td>0.011577</td>\n",
              "      <td>0.014304</td>\n",
              "      <td>0.019199</td>\n",
              "      <td>0.010753</td>\n",
              "      <td>0.015152</td>\n",
              "    </tr>\n",
              "  </tbody>\n",
              "</table>\n",
              "</div>"
            ],
            "text/plain": [
              "                                  epithelial cell    T cell  plasma cell  \\\n",
              "ENSG00000000003\\tENSG00000000003         0.025612  0.001129     0.007241   \n",
              "ENSG00000000005\\tENSG00000000005         0.000138  0.000000     0.000000   \n",
              "ENSG00000000419\\tENSG00000000419         0.039756  0.043196     0.026673   \n",
              "ENSG00000000457\\tENSG00000000457         0.028085  0.028976     0.022048   \n",
              "ENSG00000000460\\tENSG00000000460         0.048601  0.012987     0.011577   \n",
              "\n",
              "                                    B cell  mesenchymal cell  \\\n",
              "ENSG00000000003\\tENSG00000000003  0.001300          0.015025   \n",
              "ENSG00000000005\\tENSG00000000005  0.000000          0.005008   \n",
              "ENSG00000000419\\tENSG00000000419  0.039034          0.045075   \n",
              "ENSG00000000457\\tENSG00000000457  0.020806          0.023342   \n",
              "ENSG00000000460\\tENSG00000000460  0.014304          0.019199   \n",
              "\n",
              "                                  endothelial cell  myeloid cell  \n",
              "ENSG00000000003\\tENSG00000000003          0.029570      0.000000  \n",
              "ENSG00000000005\\tENSG00000000005          0.000000      0.000000  \n",
              "ENSG00000000419\\tENSG00000000419          0.053763      0.035354  \n",
              "ENSG00000000457\\tENSG00000000457          0.013441      0.005257  \n",
              "ENSG00000000460\\tENSG00000000460          0.010753      0.015152  "
            ]
          },
          "metadata": {},
          "output_type": "display_data"
        }
      ],
      "source": [
        "# parameters\n",
        "n_max = 10_000                        # maximum spots to average per cell-type\n",
        "rng   = np.random.default_rng(0)      # reproducible sampling\n",
        "\n",
        "\n",
        "mean_expr_dict = {}\n",
        "\n",
        "# iterate over the *observed* categories only\n",
        "for cell_type, n_spots in adata.obs[\"cell_type\"].value_counts().items():\n",
        "\n",
        "    # 1) select the spots of this cell-type\n",
        "    subset = adata[adata.obs[\"cell_type\"] == cell_type]\n",
        "\n",
        "    # sanity-check: skip if somehow empty\n",
        "    if subset.n_obs == 0:\n",
        "        print(f\"⚠️  no spots for '{cell_type}' – skipped\")\n",
        "        continue\n",
        "\n",
        "    # 2) subsample if necessary\n",
        "    if subset.n_obs > n_max:\n",
        "        chosen = rng.choice(subset.obs_names, n_max, replace=False)\n",
        "        subset = subset[chosen]\n",
        "\n",
        "    # 3) average expression (works for dense *and* sparse)\n",
        "    mean_vec = subset.X.mean(axis=0)\n",
        "    mean_vec = mean_vec.A1 if hasattr(mean_vec, \"A1\") else np.asarray(mean_vec).ravel()\n",
        "\n",
        "    mean_expr_dict[cell_type] = mean_vec\n",
        "\n",
        "# 4) build reference matrix  (genes  ×  cell-types)\n",
        "X_ref = pd.DataFrame(mean_expr_dict, index=adata.var_names)\n",
        "\n",
        "print(\"X_ref shape:\", X_ref.shape)   # genes × cell-types\n",
        "display(X_ref.iloc[:5, :8])          # preview\n"
      ]
    },
    {
      "cell_type": "code",
      "execution_count": 39,
      "metadata": {},
      "outputs": [],
      "source": [
        "X_ref.to_csv(\"../Data/cell_type_reference_matrix.csv\")"
      ]
    },
    {
      "cell_type": "code",
      "execution_count": 40,
      "metadata": {},
      "outputs": [],
      "source": [
        "adata.write(\"../Data/scatlas/E-MTAB-9543_reference_data.h5ad\")"
      ]
    }
  ],
  "metadata": {
    "colab": {
      "provenance": []
    },
    "kernelspec": {
      "display_name": "Python (Internship)",
      "language": "python",
      "name": "internship"
    },
    "language_info": {
      "codemirror_mode": {
        "name": "ipython",
        "version": 3
      },
      "file_extension": ".py",
      "mimetype": "text/x-python",
      "name": "python",
      "nbconvert_exporter": "python",
      "pygments_lexer": "ipython3",
      "version": "3.11.5"
    }
  },
  "nbformat": 4,
  "nbformat_minor": 0
}
